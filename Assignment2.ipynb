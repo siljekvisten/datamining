{
  "nbformat": 4,
  "nbformat_minor": 0,
  "metadata": {
    "colab": {
      "provenance": [],
      "include_colab_link": true
    },
    "kernelspec": {
      "name": "python3",
      "display_name": "Python 3"
    },
    "language_info": {
      "name": "python"
    }
  },
  "cells": [
    {
      "cell_type": "markdown",
      "metadata": {
        "id": "view-in-github",
        "colab_type": "text"
      },
      "source": [
        "<a href=\"https://colab.research.google.com/github/siljekvisten/datamining/blob/main/Assignment2.ipynb\" target=\"_parent\"><img src=\"https://colab.research.google.com/assets/colab-badge.svg\" alt=\"Open In Colab\"/></a>"
      ]
    },
    {
      "cell_type": "markdown",
      "source": [
        "Import classes"
      ],
      "metadata": {
        "id": "UlMVWHk_FnXN"
      }
    },
    {
      "cell_type": "code",
      "execution_count": null,
      "metadata": {
        "id": "FfUvta92FiRS"
      },
      "outputs": [],
      "source": [
        "import pandas as pd"
      ]
    },
    {
      "cell_type": "markdown",
      "source": [
        "Define the transaction data"
      ],
      "metadata": {
        "id": "Mq1ViymsFq6a"
      }
    },
    {
      "cell_type": "code",
      "source": [
        "dataset = [\n",
        "    ['Bread', 'Banana', 'Kidney Beans', 'Eggs'],\n",
        "    ['Bread', 'Onion', 'Taco Seasoning', 'Kidney Beans', 'Eggs', 'Yogurt'],\n",
        "    ['Grandiosa Pizza', 'Onion', 'Taco Seasoning', 'Kidney Beans', 'Eggs', 'Yogurt'],\n",
        "    ['Corn', 'Onion', 'Onion', 'Kidney Beans', 'Ice cream', 'Eggs'],\n",
        "    ['Bread', 'Pepsi Max', 'Corn', 'Kidney Beans', 'Yogurt'],\n",
        "  ]"
      ],
      "metadata": {
        "id": "SdePpIa4Fphl"
      },
      "execution_count": null,
      "outputs": []
    },
    {
      "cell_type": "markdown",
      "source": [
        "From `mlxtend.preprocessing` import the `TransactionEncoder` to encode the dataset into an array"
      ],
      "metadata": {
        "id": "auKQUtKrHSiL"
      }
    },
    {
      "cell_type": "code",
      "source": [
        "#TODO"
      ],
      "metadata": {
        "id": "rhzU7aNdHiZl"
      },
      "execution_count": null,
      "outputs": []
    },
    {
      "cell_type": "markdown",
      "source": [
        "Make a Dataframe from your array to feed into the algorithms\n",
        "\n",
        "Some tips:\n",
        "\n",
        "assume your transaction array is `te_array`\n",
        "```\n",
        "df = pd.DataFrame(te_ary, columns=te.columns_)\n",
        "```\n",
        "Where `te` is imported from `mlxtend`.\n"
      ],
      "metadata": {
        "id": "V7oSGrDkKQiR"
      }
    },
    {
      "cell_type": "code",
      "source": [
        "# TODO"
      ],
      "metadata": {
        "id": "psl5wq2WMmgS"
      },
      "execution_count": null,
      "outputs": []
    },
    {
      "cell_type": "markdown",
      "source": [
        "From `mlxtend.frequent_patterns` import both `fpgrowth` and `apriori`. Then get the support and itemsets."
      ],
      "metadata": {
        "id": "Bba4K9dOHk8j"
      }
    },
    {
      "cell_type": "code",
      "source": [
        "# TODO"
      ],
      "metadata": {
        "id": "FcBb3D0BJPW1"
      },
      "execution_count": null,
      "outputs": []
    }
  ]
}